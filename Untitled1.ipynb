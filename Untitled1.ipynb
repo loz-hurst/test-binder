{
 "cells": [
  {
   "cell_type": "code",
   "execution_count": 1,
   "metadata": {},
   "outputs": [
    {
     "name": "stdout",
     "output_type": "stream",
     "text": [
      "Hello world!\n",
      "i is: 10\n"
     ]
    }
   ],
   "source": [
    "#include <iostream>\n",
    "\n",
    "int i = 10;\n",
    "\n",
    "std::cout << \"Hello world!\" << std::endl << \"i is: \" << i << std::endl;"
   ]
  },
  {
   "cell_type": "code",
   "execution_count": 2,
   "metadata": {},
   "outputs": [
    {
     "name": "stderr",
     "output_type": "stream",
     "text": [
      "input_line_10:3:1: error: use of undeclared identifier 'cout'; did you mean 'std::cout'?\n",
      "cout << \"Hello world!\" << endl << \"i is: \" << i << endl;\n",
      "^~~~\n",
      "std::cout\n",
      "/srv/conda/bin/../lib/gcc/../../gcc/include/c++/iostream:61:18: note: 'std::cout' declared here\n",
      "  extern ostream cout;          /// Linked to standard output\n",
      "                 ^\n",
      "input_line_10:3:27: error: use of undeclared identifier 'endl'; did you mean 'std::endl'?\n",
      "cout << \"Hello world!\" << endl << \"i is: \" << i << endl;\n",
      "                          ^~~~\n",
      "                          std::endl\n",
      "/srv/conda/bin/../lib/gcc/../../gcc/include/c++/ostream:590:5: note: 'std::endl' declared here\n",
      "    endl(basic_ostream<_CharT, _Traits>& __os)\n",
      "    ^\n",
      "input_line_10:3:52: error: use of undeclared identifier 'endl'; did you mean 'std::endl'?\n",
      "cout << \"Hello world!\" << endl << \"i is: \" << i << endl;\n",
      "                                                   ^~~~\n",
      "                                                   std::endl\n",
      "/srv/conda/bin/../lib/gcc/../../gcc/include/c++/ostream:590:5: note: 'std::endl' declared here\n",
      "    endl(basic_ostream<_CharT, _Traits>& __os)\n",
      "    ^\n",
      "input_line_10:2:6: error: redefinition of 'i'\n",
      " int i = 10;\n",
      "     ^\n",
      "input_line_8:2:6: note: previous definition is here\n",
      " int i = 10;\n",
      "     ^\n"
     ]
    },
    {
     "ename": "Interpreter Error",
     "evalue": "",
     "output_type": "error",
     "traceback": [
      "Interpreter Error: "
     ]
    }
   ],
   "source": [
    "#include <iostream>\n",
    "\n",
    "int i = 10;\n",
    "\n",
    "cout << \"Hello world!\" << endl << \"i is: \" << i << endl;"
   ]
  },
  {
   "cell_type": "code",
   "execution_count": null,
   "metadata": {},
   "outputs": [],
   "source": []
  }
 ],
 "metadata": {
  "kernelspec": {
   "display_name": "C++17",
   "language": "C++17",
   "name": "xeus-cling-cpp17"
  },
  "language_info": {
   "codemirror_mode": "text/x-c++src",
   "file_extension": ".cpp",
   "mimetype": "text/x-c++src",
   "name": "c++",
   "version": "-std=c++17"
  }
 },
 "nbformat": 4,
 "nbformat_minor": 2
}
